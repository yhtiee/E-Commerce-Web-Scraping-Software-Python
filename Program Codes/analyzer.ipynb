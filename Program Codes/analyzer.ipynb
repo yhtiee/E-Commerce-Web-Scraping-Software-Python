{
 "cells": [
  {
   "cell_type": "code",
   "execution_count": 1,
   "metadata": {},
   "outputs": [
    {
     "name": "stdout",
     "output_type": "stream",
     "text": [
      "['Shopping categories', 'Health & beauty', 'Clothing & accessories', 'Toys & hobbies', 'Home & interior', 'Sound & vision', 'Sports & outdoor', 'Computing', 'Do it yourself', 'Photography', 'Gaming & entertainment', 'Phones & wearables', 'Kids & family', 'Motor transport', 'Garden & patio', 'Small home appliances', 'Home appliances', 'Entertainment', 'Office equipment']\n"
     ]
    }
   ],
   "source": [
    "file = open(\"../TXT files/categories.txt\", mode=\"r\")\n",
    "new = file.read()\n",
    "cat = eval(new)\n",
    "print(cat)\n",
    "\n",
    "\n"
   ]
  },
  {
   "cell_type": "code",
   "execution_count": 2,
   "metadata": {},
   "outputs": [
    {
     "name": "stdout",
     "output_type": "stream",
     "text": [
      "['Beauty', 'Contacts & glasses', 'Health', 'Personal care', 'Work clothes', 'Costumes', 'Accessories', 'Clothing', 'Shoes', 'Toys', 'Rc toys', 'Board games', 'Arts & crafts', 'Scale models & model kits', 'Trampolines', 'Table sports', 'Jigsaw puzzles', 'Bathroom & sauna', 'Food & wine', 'Home', 'Home appliances', 'Interior & furniture', 'Kitchen', 'Office equipment', 'Small home appliances', 'Smart home', 'Headphones', 'Tvs', 'Media players', 'Speakers', 'Soundbars & home cinema systems', 'Amplifiers & receivers', 'Cables', 'Blu-ray & dvd-players', 'Boat- & car audio', 'Dj equipment, karaoke & party machines', 'Home audio', 'Musical instruments', 'Projectors & accessories', 'Studio & recording equipment', 'Tv accessories & digital tv boxes', 'Sports fan apparel', 'Swim & water sports', 'Fitness machines', 'Golf', 'Fitness', 'Climbing', 'Equestrian', 'Sports accessories', 'Martial arts', 'Disc golf', 'Ball sports', 'Cycling', 'Hunting, fishing & outdoors', 'Racket sports', 'Skateboard & inlines', 'Winter sports', 'Components', 'Computers', 'Networking', 'Peripherals', 'Software', 'Storage', 'Diy accessories', 'Bricks & paving', 'Kitchen sinks', 'Building materials', 'Conservatories, outbuildings & sheds', 'Floor, wall & roof', 'Heating & plumbing', 'Tools & machines', 'Camcorders', 'Digital cameras', 'Analogue cameras', 'Camera lenses', 'Camera bags', 'Camera accessories', 'Digital photo frames', 'Camera tripods', 'Lighting & studio equipment', 'Camera flashes', 'Camera lens filters', 'Color calibrators', 'Game consoles', 'Game controllers', 'Vr - virtual reality', 'Gaming accessories', 'Gaming chairs', 'Entertainment', 'Games', 'Retro games', 'Mobile phones', 'Wearables', 'Mobile phone accessories', 'Sat navs', 'Landline phones', 'Strollers', 'Baby care', '\"Kids room\"', 'Child car seats', 'Child safety', 'Stroller accessories', 'Maternity & nursing', 'Child car seats accessories', 'Electric vehicles', 'Car care & vehicle accessories', 'Electric vehicle charging', 'Trailers', 'Boating', 'Motorcycle equipment', 'Car tires', 'Car parts', 'Car rims', 'Bbq accessories', 'Grills', 'Garden power tools', 'Garden & outdoor environment', 'Robotic lawn mowers', 'Lawn mowers', 'Garden tools', 'Outdoor furniture', 'Pots, plants & cultivation', 'Greenhouses', 'Pressure washers & power washers', 'Swimming pools & accessories', 'Garden power tool accessories', 'Hot tubs', 'Snow blowers', 'Fryers', 'Coffee makers', 'Food cookers', 'Kettles', 'Soft drinks makers', 'Irons & steamers', 'Food mixers & food processors', 'Air treatment', 'Blenders', 'Toasters', 'Fans', 'Kitchen appliances', 'Hand blenders', 'Coffee grinders', 'Juicers', 'Waffle makers', 'Sandwich toasters', 'Hand mixers', 'Ice cream makers', 'Kitchen scales', 'Breadmakers', 'Ice makers', 'Vacuum cleaners', 'Robot vacuum cleaners', 'Washing machines', 'Dishwashers', 'Microwave ovens', 'Tumble dryers', 'Vacuum cleaner accessories', 'Extractor fans', 'White goods accessories', 'Cookers & ovens', 'Fridges & freezers', 'Books', 'Movies', 'Vinyl records', 'Calculators', 'Office supplies']\n"
     ]
    }
   ],
   "source": [
    "file = open(\"../TXT files/sub_categories.txt\", mode=\"r\")\n",
    "new = file.read()\n",
    "sub_cat_file= eval(new)\n",
    "print(sub_cat_file)"
   ]
  },
  {
   "cell_type": "code",
   "execution_count": 3,
   "metadata": {},
   "outputs": [
    {
     "name": "stdout",
     "output_type": "stream",
     "text": [
      "['Combined shavers & trimmers', 'Shavers', 'Trimmers', 'Combined curling irons & straighteners', 'Crimpers', 'Curling irons', 'Heat brushes', 'Heated rollers', 'Body mist', 'Eau de cologne', 'Eau de parfum', 'Eau de toilette', 'Eau fraiche', 'Advent calendars', 'Base makeup & setting sprays', 'Cosmetic tools & makeup mirrors', 'Eyebrow products', 'Eyeshadows & eyeliners', 'Bikini trimmers', 'Epilators', 'Facial trimmers', 'Ipl', 'Lady shavers', 'Advent calendars', 'Care products', 'False nails', 'Gift boxes, sets & multi-products', 'Nail art', 'Comfort drops', 'Lens solutions', 'Computer screen glasses & blue light glasses', 'Glasses', 'Reading glasses', 'Crutches & medical aids', 'Health care meters', 'Self tests', 'Support & protection', 'Thermometers', 'Acupressure mats', 'Aroma therapy', 'Foot baths', 'Heating products', 'Light therapy', 'Bathroom scales', 'Diagnostic scales', 'Bandage & compress', 'First aid kits', 'Foot plasters', 'Plasters', 'Wound cleanser', 'Combined electric tootbrushes & irrigators', 'Electric toothbrushes', 'Irrigators', 'Advent calendars', 'Body care', 'Eye creams & eye serums', 'Facial treatments & cleansing products', 'Foot care', 'After shave', 'Beard care', 'Razor blades & cartridges', 'Razors', 'Shaver heads', 'Anti hair loss treatments', 'Conditioners', 'Dry shampoos', 'Extensions & wigs', 'Gift boxes, sets & multi-products', 'Advent calendars', 'Bath & shower products', 'Deodorants', 'Gift boxes, sets & multi-products', 'Hair removal products', 'Dental floss & dental sticks', 'Dentures & dental splints', 'Disclosing tablets', 'Irrigator heads', 'Teeth whitening', 'Backpacks', 'Bag accessories', 'Briefcases', 'Bum bags', 'Computer bags', 'Beauty cases', 'Cabin bags', '\"Childrens luggage\"', 'Garment bags', 'Suitcase set', 'Pocket watches', 'Watch accessories', 'Watch straps', 'Wrist watches', 'Anklets', 'Bracelets', 'Brooches', 'Charms & pendants', 'Cufflinks', 'Card cases', 'Coin purses', 'Key cases', 'Keychains', 'Money clips', 'Accessories', 'Base layer', 'Bodysuits', 'Christening wear', 'Dresses', 'Accessories', 'Dresses', 'Jumpsuits & overalls', 'Outerwear', 'Pants & shorts', 'Boots', 'Heels & pumps', 'Low shoes', 'Rain boots', 'Slippers & sandals', 'Ballerina shoes', 'Beach shoes', 'Boots', 'Espadrilles', 'First steps', 'Anti-slip', 'Insoles', 'Shoe accessories', 'Shoe care', 'Bidets', 'Dry toilets', 'Water toilets', 'Bathroom extractor fans', 'Bathroom interior & storage', 'Bathtub & shower accessories', 'Toilet accessories', 'Sauna accessories', 'Sauna rooms', 'Basin taps', 'Bath taps & bath shower mixers', 'Kitchen taps', 'Bathroom cabinets', 'Bathroom mirrors', 'Mirrored cabinets', 'Vanity units', 'Bathtubs', 'Shower sets', 'Showers', 'Advent calendars', 'Baby food & formula', 'Baking', 'Beverages', 'Canned food', 'Cleaning agents', 'Cleaning equipment', 'Dispensers', 'Toilet & household paper', 'Waste disposal', 'Fire safety', 'Locks', 'Personal security', 'Safes', 'Surveillance & alarm systems', 'Rain & wind gages', 'Thermometers, hygrometers & barometers', 'Weather stations', 'Clothes hangers', 'Clothing care', 'Drying racks', 'Ironing board cover', 'Ironing boards', 'Handheld flashlights', 'Headlights', 'Penlights', 'Work lights', 'Fidget spinners & stress balls', 'Hip flasks', 'Smoking accessories', 'Storage', 'Travel pillows & sleep masks', 'Balloons', 'Cards & invitations', 'Drinking games', 'Party decorations', 'Photo props, party hats & sashes', 'Canister vacuum cleaners', 'Carpet cleaners', 'Central vacuum cleaners', 'Handheld vacuum cleaners', 'Shop vacuum cleaners', 'Upright vacuum cleaners', 'Cookers', 'Cooktops', 'Ovens', 'Freezers', 'Fridge freezers', 'Fridges', 'Wine coolers', 'Ceiling lamps', 'Christmas lights', 'Floor lamps & ground lighting', 'Lamp parts', 'Special lamps', 'Armchairs', 'Benches', 'Cabinets', 'Chairs', 'Chest of drawers', 'Bowls', 'Boxes & baskets', 'Candlesticks, candles & fragrance', 'Clocks', 'Decorative items', 'Bed frames', 'Beds', 'Headboards', 'Mattresses', 'Energy-efficient lamps', 'Fluorescent lamps', 'Halogen lamps', 'Incandescent lamps', 'Led lamps', 'Xenon lamps', 'Aprons', 'Bed linen', 'Blankets', 'Chair cushions', 'Cloths & tissues', 'Blinds', 'Curtain accessories', 'Curtains', 'Pleated blinds', 'Roll-up blinds', 'Bath mats', 'Carpets', 'Entrance mats', 'Sheepskin', 'Bar equipment', 'Cups & mugs', 'Cutlery', 'Dinner sets', 'Dishes', 'Casseroles', 'Cookware sets', 'Fondue', 'Inserts', 'Lids', 'Baking decorations', 'Baking supplies', 'Bowls', 'Icing bags & nozzles', 'Rolling pins', 'Knife accessories', 'Knives', 'Bar code scanners', 'Binding machines', 'Calendar & notepads', 'Desktop organizers & storage', 'Desktop stationary', 'Coffee brewers', 'Coffee maker accessories', 'Coffee presses', 'Espresso machines', 'Moka pots', 'Egg boilers', 'Food steamers', 'Multi cookers', 'Pressure cookers', 'Rice cookers', 'Accessories', 'Soft drinks makers', 'Accessories for food mixers & food processors', 'Food mixers', 'Food processors', 'Air conditioners', 'Air coolers', 'Air purifiers', 'Air quality monitors', 'Dehumidifiers', 'Accessories', 'Jug blenders', 'Smoothie blenders', 'Ceiling fans', 'Desk fans', 'Floor fans', 'Hand held fans', 'Industrial fans', 'Dessert appliances', 'Kitchen appliance accessories', 'Kitchen appliances for fruit/vegetables', 'Meat slicers', 'Mincers', 'Citrus presses', 'Juice extractors', 'Slow juicers', 'Accessories for surveillance cameras', 'Surveillance cameras', 'Bubble machines', 'Confetti & streamer machines', 'Fog machines', 'Snow machines', 'Cartridges', 'Record cleaners', 'Styluses', 'Turntables', 'Speaker mounts', 'Speaker stands', 'Drums & cymbals', 'Keyboard instruments', 'String instruments', 'Wind instruments', 'Capos', 'Care products for musical instruments', 'Cases for musical instruments', 'Conducting batons', 'Drum heads (skins)', 'Bass amplifier tops', 'Bass amplifiers', 'Bass cabinets', 'Drum amplifiers', 'Guitar amplifier tops', 'Microphone', 'Microphone stands', 'Parabolic antennas', 'Screen mounts', 'Tv antenna amplifiers', 'Tv antennas', 'Tv modules', 'Goal keeper gloves', 'Shin guards', 'Soccer balls', 'Soccer equipment', 'Soccer goals', 'Basketball hoops', 'Basketball nets', 'Basketball sets', 'Basketball stands', 'Basketballs', 'Floorball accessory', 'Floorball balls', 'Floorball goals', 'Floorball sticks', 'Cricket bats', 'Protective equipment', 'Rugby balls', 'Football gloves', 'Footballs', 'Helmets', 'Bike bags & baskets', 'Bike bells', 'Bike carts & tandem bike trailers', 'Bike child seats', 'Bike computers & bike sensors', 'E-bike batteries & chargers', 'E-city bikes', 'E-mountainbikes', 'E-road bikes', 'Bmx bikes', 'City bikes', '\"Kids bikes\"', 'Mountainbikes', 'Road bikes', 'Bicycle forks', 'Bicycle frames', 'Bicycle tires', 'Bike saddles', 'Brakes', 'Air beds', 'Bug protection', 'Camping cooking equipment', 'Camping furniture', 'Cool bags & boxes', 'Clothing', 'Fishing accessories', 'Lines', 'Lures', 'Reels', 'Binoculars', 'Laser rangefinders', 'Monoculars', 'Night vision binoculars', 'Spotting scopes', 'Telescopes', 'Padel bags & covers', 'Padel balls', 'Padel rackets', 'Badminton rackets', 'Badminton set & net', 'Badminton strings', 'Shuttlecocks', 'Table tennis balls', 'Table tennis bats', 'Table tennis blades', 'Table tennis nets', 'Table tennis rubbers', 'Tennis bags & covers', 'Tennis balls', 'Tennis rackets', 'Squash balls', 'Squash rackets', 'Pickleball balls', 'Pickleball paddles', 'Pickleball sets', 'Inline skates', 'Roller skates', 'Roller skating accessories', 'Complete skateboards', 'Cruisers', 'Decks', 'Longboards', 'Skateboard accessories', 'Alpine protection', 'Avalanche equipment', 'Balaclavas', 'Buffs', 'Goggles', 'Cross country boots', 'Cross country ski bindings', 'Cross country ski poles', 'Cross country skis', 'Roller skiing', 'Hockey goalie equipment', 'Ice hockey accessories ', 'Ice hockey helmets', 'Ice hockey sticks', 'Player protective', 'Figure skates', 'Ice hockey skates', 'Ice skates', 'Ice skating accessories', 'Downhill boots', 'Downhill ski bindings', 'Downhill ski poles', 'Downhill skis', 'Ski skins', 'Snowboard bindings', 'Snowboard boots', 'Snowboards', 'Bluetooth adapters', 'Network cards', 'Wireless network cards', 'Controllers', 'Cpu coolers', 'Fans', 'Graphics card coolers', 'Hdd coolers', 'Capture & video cards', 'Tv cards', '3d mice', 'Gaming mice', 'Pen mice', 'Rollerbars', 'Standard mice', 'Carbon rolls', 'Developers', 'Fusers', 'Ink', 'Opc drums', 'Cases & covers', 'Docking stations', 'Keyboards', 'Screen protectors', 'Stylus pens', 'Tablet holders', '3d-printers', 'Filaments', 'Memory cards', 'Usb flash drives', 'Adapters', 'Cable clips & cable accessories', 'Cable ties', 'Dimmers', 'Doorbells', 'Doorhandles & knobs', 'Fixings', 'Insulation strips', 'Putty & building chemicals', 'Tape', 'Decking timber', 'Roof windows', 'Top hung windows', 'Carports', 'Firewood shed', 'Garden storage units', 'Sheds', 'Linoleum flooring', 'Outdoor flooring', 'Plastic flooring', 'Wood flooring', 'Plastic roofing', 'Roof entrance', 'Electric fireplaces', 'Ethanol fireplaces', 'Fireplace accessories', 'Wood stoves', 'Air heating pump', 'Sewer', 'Water', 'Fan radiators', 'Oil radiators', 'Panel radiators', 'Radiator covers', 'Burners', 'Carving machines', 'Cement mixers', 'Compressors', 'Demolition hammers', 'Hammer drills', 'Impact wrenches', 'Screwdrivers', 'Set', 'Band saws', 'Circular saws', 'Drywall cutters', 'Jigsaws', 'Miter saws', 'Axes', 'Brush tools', 'Chisels', 'Clamps', 'Crowbars', 'Grinders & sanders', 'Polisher', 'Audiobooks', 'Books', 'E-books', '3d blu rays', '4k blu-ray', 'Blu-ray', 'Dvd-movies', 'Built in cooktops', 'Freestanding cooktops', 'Cast iron cookers', 'Gas cookers', 'Induction cookers', 'Chest freezers', 'Freestanding freezers', 'Integrated freezers', 'Upright freezers', 'Freestanding refrigerators', 'Integrated refrigerators', 'Mini fridges', 'Wine coolers', 'Wine storage cabinets']\n"
     ]
    }
   ],
   "source": [
    "file = open(\"../TXT files/sub_sub_categories.txt\", mode=\"r\")\n",
    "new = file.read()\n",
    "sub_sub_cat_file= eval(new)\n",
    "print(sub_sub_cat_file)"
   ]
  },
  {
   "cell_type": "code",
   "execution_count": 29,
   "metadata": {},
   "outputs": [],
   "source": [
    "from distutils.command.clean import clean\n",
    "import pandas as pd\n",
    "\n",
    "df = pd.DataFrame(\n",
    "   {\n",
    "       \"category\": [x for x in cat],\n",
    "   }\n",
    ")\n",
    "\n",
    "df.head()\n",
    "df.to_csv(\"../CSV files/category_data.csv\", index=True)"
   ]
  },
  {
   "cell_type": "code",
   "execution_count": null,
   "metadata": {},
   "outputs": [],
   "source": [
    "from distutils.command.clean import clean\n",
    "import pandas as pd\n",
    "\n",
    "df = pd.DataFrame(\n",
    "   {\n",
    "       \"sub_category\": [x for x in sub_cat_file],\n",
    "   }\n",
    ")\n",
    "\n",
    "df.head()\n",
    "df.to_csv(\"../CSV files/sub_category_data.csv\", index=True)"
   ]
  },
  {
   "cell_type": "code",
   "execution_count": null,
   "metadata": {},
   "outputs": [],
   "source": [
    "from distutils.command.clean import clean\n",
    "import pandas as pd\n",
    "\n",
    "df = pd.DataFrame(\n",
    "   {\n",
    "       \"sub_sub_category\": [x for x in sub_sub_cat_file],\n",
    "   }\n",
    ")\n",
    "\n",
    "df.head()\n",
    "df.to_csv(\"../CSV files/sub_sub_category_data.csv\", index=True)"
   ]
  }
 ],
 "metadata": {
  "kernelspec": {
   "display_name": "Python 3.10.3 64-bit",
   "language": "python",
   "name": "python3"
  },
  "language_info": {
   "codemirror_mode": {
    "name": "ipython",
    "version": 3
   },
   "file_extension": ".py",
   "mimetype": "text/x-python",
   "name": "python",
   "nbconvert_exporter": "python",
   "pygments_lexer": "ipython3",
   "version": "3.10.7"
  },
  "orig_nbformat": 4,
  "vscode": {
   "interpreter": {
    "hash": "ec39b2ded0b3042f39abdae71d72b114ce2435f72afd9c666e52e21426fbdcef"
   }
  }
 },
 "nbformat": 4,
 "nbformat_minor": 2
}
